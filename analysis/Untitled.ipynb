{
 "cells": [
  {
   "cell_type": "code",
   "execution_count": 1,
   "metadata": {},
   "outputs": [],
   "source": [
    "import pandas as pd\n",
    "import nltk\n",
    "import os"
   ]
  },
  {
   "cell_type": "code",
   "execution_count": 2,
   "metadata": {},
   "outputs": [
    {
     "name": "stderr",
     "output_type": "stream",
     "text": [
      "/home/anshita/.local/lib/python3.6/site-packages/ipykernel_launcher.py:1: ParserWarning: Falling back to the 'python' engine because the 'c' engine does not support regex separators (separators > 1 char and different from '\\s+' are interpreted as regex); you can avoid this warning by specifying engine='python'.\n",
      "  \"\"\"Entry point for launching an IPython kernel.\n"
     ]
    }
   ],
   "source": [
    "df = pd.read_csv(\"../corpus/nos/2022-08/2022-08-01.txt\", header=None, sep=\"\\|\\|\")"
   ]
  },
  {
   "cell_type": "code",
   "execution_count": 3,
   "metadata": {},
   "outputs": [
    {
     "name": "stderr",
     "output_type": "stream",
     "text": [
      "/home/anshita/.local/lib/python3.6/site-packages/ipykernel_launcher.py:6: ParserWarning: Falling back to the 'python' engine because the 'c' engine does not support regex separators (separators > 1 char and different from '\\s+' are interpreted as regex); you can avoid this warning by specifying engine='python'.\n",
      "  \n"
     ]
    }
   ],
   "source": [
    "for filename in os.listdir(\"../corpus/nos/2022-08\"):\n",
    "    if filename == '2022-08-01.txt':\n",
    "        continue\n",
    "    if 'txt' not in filename:\n",
    "        continue\n",
    "    temp_df = pd.read_csv(\"../corpus/nos/2022-08/\" + filename, sep='\\|\\|', header=None)\n",
    "    df = pd.concat([df, temp_df])    "
   ]
  },
  {
   "cell_type": "code",
   "execution_count": 17,
   "metadata": {},
   "outputs": [
    {
     "data": {
      "text/html": [
       "<div>\n",
       "<style scoped>\n",
       "    .dataframe tbody tr th:only-of-type {\n",
       "        vertical-align: middle;\n",
       "    }\n",
       "\n",
       "    .dataframe tbody tr th {\n",
       "        vertical-align: top;\n",
       "    }\n",
       "\n",
       "    .dataframe thead th {\n",
       "        text-align: right;\n",
       "    }\n",
       "</style>\n",
       "<table border=\"1\" class=\"dataframe\">\n",
       "  <thead>\n",
       "    <tr style=\"text-align: right;\">\n",
       "      <th></th>\n",
       "      <th>0</th>\n",
       "      <th>1</th>\n",
       "      <th>2</th>\n",
       "      <th>3</th>\n",
       "    </tr>\n",
       "  </thead>\n",
       "  <tbody>\n",
       "    <tr>\n",
       "      <th>count</th>\n",
       "      <td>32</td>\n",
       "      <td>32</td>\n",
       "      <td>32</td>\n",
       "      <td>32</td>\n",
       "    </tr>\n",
       "    <tr>\n",
       "      <th>unique</th>\n",
       "      <td>21</td>\n",
       "      <td>32</td>\n",
       "      <td>32</td>\n",
       "      <td>32</td>\n",
       "    </tr>\n",
       "    <tr>\n",
       "      <th>top</th>\n",
       "      <td>2022-08-06</td>\n",
       "      <td>Actrice Anne Heche (53) overleden na dagen in ...</td>\n",
       "      <td>In Finland is ophef ontstaan over een filmpje...</td>\n",
       "      <td>https://nos.nl/artikel/2439547-taiwan-chinese-...</td>\n",
       "    </tr>\n",
       "    <tr>\n",
       "      <th>freq</th>\n",
       "      <td>4</td>\n",
       "      <td>1</td>\n",
       "      <td>1</td>\n",
       "      <td>1</td>\n",
       "    </tr>\n",
       "  </tbody>\n",
       "</table>\n",
       "</div>"
      ],
      "text/plain": [
       "                 0                                                  1  \\\n",
       "count           32                                                 32   \n",
       "unique          21                                                 32   \n",
       "top     2022-08-06  Actrice Anne Heche (53) overleden na dagen in ...   \n",
       "freq             4                                                  1   \n",
       "\n",
       "                                                        2  \\\n",
       "count                                                  32   \n",
       "unique                                                 32   \n",
       "top      In Finland is ophef ontstaan over een filmpje...   \n",
       "freq                                                    1   \n",
       "\n",
       "                                                        3  \n",
       "count                                                  32  \n",
       "unique                                                 32  \n",
       "top     https://nos.nl/artikel/2439547-taiwan-chinese-...  \n",
       "freq                                                    1  "
      ]
     },
     "execution_count": 17,
     "metadata": {},
     "output_type": "execute_result"
    }
   ],
   "source": [
    "drug_df = df[df[2].str.contains('drug')]\n",
    "drug_df.describe()"
   ]
  },
  {
   "cell_type": "code",
   "execution_count": 11,
   "metadata": {},
   "outputs": [
    {
     "data": {
      "text/html": [
       "<div>\n",
       "<style scoped>\n",
       "    .dataframe tbody tr th:only-of-type {\n",
       "        vertical-align: middle;\n",
       "    }\n",
       "\n",
       "    .dataframe tbody tr th {\n",
       "        vertical-align: top;\n",
       "    }\n",
       "\n",
       "    .dataframe thead th {\n",
       "        text-align: right;\n",
       "    }\n",
       "</style>\n",
       "<table border=\"1\" class=\"dataframe\">\n",
       "  <thead>\n",
       "    <tr style=\"text-align: right;\">\n",
       "      <th></th>\n",
       "      <th>0</th>\n",
       "      <th>1</th>\n",
       "      <th>2</th>\n",
       "      <th>3</th>\n",
       "    </tr>\n",
       "  </thead>\n",
       "  <tbody>\n",
       "  </tbody>\n",
       "</table>\n",
       "</div>"
      ],
      "text/plain": [
       "Empty DataFrame\n",
       "Columns: [0, 1, 2, 3]\n",
       "Index: []"
      ]
     },
     "execution_count": 11,
     "metadata": {},
     "output_type": "execute_result"
    }
   ],
   "source": [
    "drug_df"
   ]
  },
  {
   "cell_type": "code",
   "execution_count": null,
   "metadata": {},
   "outputs": [],
   "source": []
  },
  {
   "cell_type": "code",
   "execution_count": null,
   "metadata": {},
   "outputs": [],
   "source": []
  },
  {
   "cell_type": "code",
   "execution_count": 6,
   "metadata": {},
   "outputs": [
    {
     "data": {
      "text/html": [
       "<div>\n",
       "<style scoped>\n",
       "    .dataframe tbody tr th:only-of-type {\n",
       "        vertical-align: middle;\n",
       "    }\n",
       "\n",
       "    .dataframe tbody tr th {\n",
       "        vertical-align: top;\n",
       "    }\n",
       "\n",
       "    .dataframe thead th {\n",
       "        text-align: right;\n",
       "    }\n",
       "</style>\n",
       "<table border=\"1\" class=\"dataframe\">\n",
       "  <thead>\n",
       "    <tr style=\"text-align: right;\">\n",
       "      <th></th>\n",
       "      <th>0</th>\n",
       "      <th>1</th>\n",
       "      <th>2</th>\n",
       "      <th>3</th>\n",
       "    </tr>\n",
       "  </thead>\n",
       "  <tbody>\n",
       "    <tr>\n",
       "      <th>33</th>\n",
       "      <td>2022-08-12</td>\n",
       "      <td>Jarenlange celstraffen voor leden criminele Cu...</td>\n",
       "      <td>Vier leden van de criminele bende No Limit So...</td>\n",
       "      <td>https://nos.nl/artikel/2440211-jarenlange-cels...</td>\n",
       "    </tr>\n",
       "    <tr>\n",
       "      <th>14</th>\n",
       "      <td>2022-08-08</td>\n",
       "      <td>Oud-profvoetballer Mendes da Silva (40) blijft...</td>\n",
       "      <td>Oud-profvoetballer David Mendes da Silva (40)...</td>\n",
       "      <td>https://nos.nl/artikel/2439813-oud-profvoetbal...</td>\n",
       "    </tr>\n",
       "    <tr>\n",
       "      <th>1</th>\n",
       "      <td>2022-08-10</td>\n",
       "      <td>Taliban zeggen drugs te verbieden, maar realit...</td>\n",
       "      <td>Omringd door lichamen, uitwerpselen en afval ...</td>\n",
       "      <td>https://nos.nl/artikel/2440066-taliban-zeggen-...</td>\n",
       "    </tr>\n",
       "    <tr>\n",
       "      <th>21</th>\n",
       "      <td>2022-08-17</td>\n",
       "      <td>Rechter in Friese drugszaak: inzet criminele b...</td>\n",
       "      <td>De inzet van een criminele burgerinfiltrant i...</td>\n",
       "      <td>https://nos.nl/artikel/2440977-rechter-in-frie...</td>\n",
       "    </tr>\n",
       "    <tr>\n",
       "      <th>39</th>\n",
       "      <td>2022-08-17</td>\n",
       "      <td>Wekdienst 17/8: Remkes voert stikstofgesprek m...</td>\n",
       "      <td>Goedemorgen! Stikstofbemiddelaar Johan Remkes...</td>\n",
       "      <td>https://nos.nl/artikel/2440921-wekdienst-17-8-...</td>\n",
       "    </tr>\n",
       "    <tr>\n",
       "      <th>13</th>\n",
       "      <td>2022-08-06</td>\n",
       "      <td>Oud-profvoetballer David Mendes da Silva (40) ...</td>\n",
       "      <td>Oud-profvoetballer David Mendes da Silva (40)...</td>\n",
       "      <td>https://nos.nl/artikel/2439582-oud-profvoetbal...</td>\n",
       "    </tr>\n",
       "    <tr>\n",
       "      <th>31</th>\n",
       "      <td>2022-08-06</td>\n",
       "      <td>Taiwan: Chinese oorlogsschepen en vliegtuigen ...</td>\n",
       "      <td>Voor de derde dag op rij voert het Chinese le...</td>\n",
       "      <td>https://nos.nl/artikel/2439547-taiwan-chinese-...</td>\n",
       "    </tr>\n",
       "    <tr>\n",
       "      <th>15</th>\n",
       "      <td>2022-08-05</td>\n",
       "      <td>China schort dialoog over klimaat en militaire...</td>\n",
       "      <td>China stopt voorlopig met gesprekken op hoog ...</td>\n",
       "      <td>https://nos.nl/artikel/2439488-china-schort-di...</td>\n",
       "    </tr>\n",
       "    <tr>\n",
       "      <th>8</th>\n",
       "      <td>2022-08-04</td>\n",
       "      <td>Vier agenten vervolgd voor rol in dood Breonna...</td>\n",
       "      <td>Vier agenten uit de Amerikaanse staat Kentuck...</td>\n",
       "      <td>https://nos.nl/artikel/2439414-vier-agenten-ve...</td>\n",
       "    </tr>\n",
       "    <tr>\n",
       "      <th>12</th>\n",
       "      <td>2022-08-04</td>\n",
       "      <td>Amerikaanse basketbalster Griner in Rusland ve...</td>\n",
       "      <td>De Amerikaanse topbasketbalster Brittney Grin...</td>\n",
       "      <td>https://nos.nl/artikel/2439403-amerikaanse-bas...</td>\n",
       "    </tr>\n",
       "    <tr>\n",
       "      <th>3</th>\n",
       "      <td>2022-08-24</td>\n",
       "      <td>Antwerpen opgeschrikt door drugsgeweld, wat is...</td>\n",
       "      <td>Precies een week geleden werd de buurt rond h...</td>\n",
       "      <td>https://nos.nl/artikel/2441927-antwerpen-opges...</td>\n",
       "    </tr>\n",
       "  </tbody>\n",
       "</table>\n",
       "</div>"
      ],
      "text/plain": [
       "             0                                                  1  \\\n",
       "33  2022-08-12  Jarenlange celstraffen voor leden criminele Cu...   \n",
       "14  2022-08-08  Oud-profvoetballer Mendes da Silva (40) blijft...   \n",
       "1   2022-08-10  Taliban zeggen drugs te verbieden, maar realit...   \n",
       "21  2022-08-17  Rechter in Friese drugszaak: inzet criminele b...   \n",
       "39  2022-08-17  Wekdienst 17/8: Remkes voert stikstofgesprek m...   \n",
       "13  2022-08-06  Oud-profvoetballer David Mendes da Silva (40) ...   \n",
       "31  2022-08-06  Taiwan: Chinese oorlogsschepen en vliegtuigen ...   \n",
       "15  2022-08-05  China schort dialoog over klimaat en militaire...   \n",
       "8   2022-08-04  Vier agenten vervolgd voor rol in dood Breonna...   \n",
       "12  2022-08-04  Amerikaanse basketbalster Griner in Rusland ve...   \n",
       "3   2022-08-24  Antwerpen opgeschrikt door drugsgeweld, wat is...   \n",
       "\n",
       "                                                    2  \\\n",
       "33   Vier leden van de criminele bende No Limit So...   \n",
       "14   Oud-profvoetballer David Mendes da Silva (40)...   \n",
       "1    Omringd door lichamen, uitwerpselen en afval ...   \n",
       "21   De inzet van een criminele burgerinfiltrant i...   \n",
       "39   Goedemorgen! Stikstofbemiddelaar Johan Remkes...   \n",
       "13   Oud-profvoetballer David Mendes da Silva (40)...   \n",
       "31   Voor de derde dag op rij voert het Chinese le...   \n",
       "15   China stopt voorlopig met gesprekken op hoog ...   \n",
       "8    Vier agenten uit de Amerikaanse staat Kentuck...   \n",
       "12   De Amerikaanse topbasketbalster Brittney Grin...   \n",
       "3    Precies een week geleden werd de buurt rond h...   \n",
       "\n",
       "                                                    3  \n",
       "33  https://nos.nl/artikel/2440211-jarenlange-cels...  \n",
       "14  https://nos.nl/artikel/2439813-oud-profvoetbal...  \n",
       "1   https://nos.nl/artikel/2440066-taliban-zeggen-...  \n",
       "21  https://nos.nl/artikel/2440977-rechter-in-frie...  \n",
       "39  https://nos.nl/artikel/2440921-wekdienst-17-8-...  \n",
       "13  https://nos.nl/artikel/2439582-oud-profvoetbal...  \n",
       "31  https://nos.nl/artikel/2439547-taiwan-chinese-...  \n",
       "15  https://nos.nl/artikel/2439488-china-schort-di...  \n",
       "8   https://nos.nl/artikel/2439414-vier-agenten-ve...  \n",
       "12  https://nos.nl/artikel/2439403-amerikaanse-bas...  \n",
       "3   https://nos.nl/artikel/2441927-antwerpen-opges...  "
      ]
     },
     "execution_count": 6,
     "metadata": {},
     "output_type": "execute_result"
    }
   ],
   "source": [
    "drug_df[drug_df[2].str.contains('handel')]"
   ]
  },
  {
   "cell_type": "code",
   "execution_count": null,
   "metadata": {},
   "outputs": [],
   "source": []
  },
  {
   "cell_type": "code",
   "execution_count": null,
   "metadata": {},
   "outputs": [],
   "source": []
  },
  {
   "cell_type": "code",
   "execution_count": null,
   "metadata": {},
   "outputs": [],
   "source": []
  },
  {
   "cell_type": "code",
   "execution_count": null,
   "metadata": {},
   "outputs": [],
   "source": []
  },
  {
   "cell_type": "code",
   "execution_count": null,
   "metadata": {},
   "outputs": [],
   "source": []
  },
  {
   "cell_type": "code",
   "execution_count": null,
   "metadata": {},
   "outputs": [],
   "source": []
  },
  {
   "cell_type": "code",
   "execution_count": null,
   "metadata": {},
   "outputs": [],
   "source": []
  },
  {
   "cell_type": "code",
   "execution_count": null,
   "metadata": {},
   "outputs": [],
   "source": []
  },
  {
   "cell_type": "code",
   "execution_count": 6,
   "metadata": {},
   "outputs": [
    {
     "name": "stderr",
     "output_type": "stream",
     "text": [
      "/usr/local/lib/python3.6/dist-packages/gensim/similarities/__init__.py:15: UserWarning: The gensim.similarities.levenshtein submodule is disabled, because the optional Levenshtein package <https://pypi.org/project/python-Levenshtein/> is unavailable. Install Levenhstein (e.g. `pip install python-Levenshtein`) to suppress this warning.\n",
      "  warnings.warn(msg)\n"
     ]
    }
   ],
   "source": [
    "from flair.data import Sentence\n",
    "from flair.models import SequenceTagger"
   ]
  },
  {
   "cell_type": "code",
   "execution_count": 7,
   "metadata": {},
   "outputs": [
    {
     "name": "stdout",
     "output_type": "stream",
     "text": [
      "2022-09-26 12:07:11,163 loading file /home/anshita/.flair/models/ner-dutch-large/2c55b4bbb196cc8eb5f17c79ddb5ed02fcb4d5b215f6081e7b624e5b0e4f800c.d40e58da40af84b32b48e1163478260ae285d5ef6807758608caff53d36ffb73\n",
      "2022-09-26 12:07:40,938 SequenceTagger predicts: Dictionary with 20 tags: <unk>, O, S-ORG, S-MISC, B-PER, E-PER, S-PER, S-LOC, B-MISC, E-MISC, B-ORG, E-ORG, I-ORG, I-PER, B-LOC, I-LOC, E-LOC, I-MISC, <START>, <STOP>\n"
     ]
    }
   ],
   "source": [
    "tagger = SequenceTagger.load(\"flair/ner-dutch-large\")"
   ]
  },
  {
   "cell_type": "code",
   "execution_count": 38,
   "metadata": {},
   "outputs": [],
   "source": [
    "sentence = Sentence('Met ieder een Oekraïense vlag om zich heen gedrapeerd, betraden de spelers van Oekraïne het veld op Hampden Park. Met zichtbare emotie brachten ze het volkslied ten gehore: \"Oekraïne is nog niet vergaan.\" En toen moesten ze voetballen, de eerste officiële interland in oorlogstijd. Plaatsing voor het WK zou een momentje van geluk betekenen voor het Oekraïense volk, winnen van Schotland was daarom de missie van de internationals in de uitgestelde play-off in de WK-kwalificatie. Met een 3-1 overwinning deden ze dat, waardoor zich nog slechts één horde op de weg naar het WK bevindt: Wales. Oekraïne was voor de rust sterker in het door Danny Makkelie gefloten duel, maar doelman Craig Gordon was op dreef en ontzegde Viktor Tsigankov en Andrej Jarmolenko bij twee goede mogelijkheden een treffer. Met een fraaie aanname en dito lobje liet Jarmolenko de Schotse keeper in de 33ste minuut wel kansloos. Na rust kopte die andere ervaren aanvaller, Roman Jaremtsjoek, de 0-2 binnen en liet Oekraïne na om Schotland op grotere achterstand te zetten. Mede door Heorhij Boesjtsjan kwam Schotland zelfs terug in de wedstrijd. Aanvankelijk kwam de Oekraïense doelman nog goed weg, toen hij een bal door zijn handen liet glippen, maar John McGinn tot zijn opluchting voor open doel naast zag koppen. In onderstaande video vertelt bondscoach Oleksandr Petrakov over de grote betekenis van de zege op Schotland.  Een tweede slippertje van Boesjtsjan betekende wel een Schotse goal. Callum McGregor scoorde en bracht de Schotse hoop terug op Hampden Park. De Schotten gaven nog alles, maar ver in blessuretijd counterde Artem Dovbyk na een splijtende pass van Oleksandr Zintsjenko naar de 1-3. In de uitslag kon iedereen op Hampden Park zich wel vinden op deze bewogen avond. Nu wacht zondag in en tegen Wales de finale om een WK-ticket. Hoe was de stemming in Kiev? Correspondent Sander van Hoorn keek met een handjevol mensen in een café in Kiev naar de play-off tussen Oekraïne en Schotland in de WK-kwalificatie')"
   ]
  },
  {
   "cell_type": "code",
   "execution_count": 39,
   "metadata": {},
   "outputs": [],
   "source": [
    "tagger.predict(sentence)"
   ]
  },
  {
   "cell_type": "code",
   "execution_count": 42,
   "metadata": {},
   "outputs": [
    {
     "name": "stdout",
     "output_type": "stream",
     "text": [
      "43\n",
      "Oekraïense\n",
      "MISC\n",
      "Oekraïne\n",
      "LOC\n",
      "Hampden Park\n",
      "LOC\n",
      "Oekraïne\n",
      "LOC\n",
      "WK\n",
      "MISC\n",
      "Oekraïense\n",
      "MISC\n",
      "Schotland\n",
      "LOC\n",
      "WK-kwalificatie\n",
      "MISC\n",
      "WK\n",
      "MISC\n",
      "Wales\n",
      "LOC\n",
      "Oekraïne\n",
      "LOC\n",
      "Danny Makkelie\n",
      "PER\n",
      "Craig Gordon\n",
      "PER\n",
      "Viktor Tsigankov\n",
      "PER\n",
      "Andrej Jarmolenko\n",
      "PER\n",
      "Jarmolenko\n",
      "PER\n",
      "Schotse\n",
      "MISC\n",
      "Roman Jaremtsjoek\n",
      "PER\n",
      "Oekraïne\n",
      "LOC\n",
      "Schotland\n",
      "LOC\n",
      "Heorhij Boesjtsjan\n",
      "PER\n",
      "Schotland\n",
      "LOC\n",
      "Oekraïense\n",
      "MISC\n",
      "John McGinn\n",
      "PER\n",
      "Oleksandr Petrakov\n",
      "PER\n",
      "Schotland\n",
      "LOC\n",
      "Boesjtsjan\n",
      "PER\n",
      "Schotse\n",
      "MISC\n",
      "Callum McGregor\n",
      "PER\n",
      "Schotse\n",
      "MISC\n",
      "Hampden Park\n",
      "LOC\n",
      "Schotten\n",
      "MISC\n",
      "Artem Dovbyk\n",
      "PER\n",
      "Oleksandr Zintsjenko\n",
      "PER\n",
      "Hampden Park\n",
      "LOC\n",
      "Wales\n",
      "LOC\n",
      "WK-ticket\n",
      "MISC\n",
      "Kiev\n",
      "LOC\n",
      "Sander van Hoorn\n",
      "PER\n",
      "Kiev\n",
      "LOC\n",
      "Oekraïne\n",
      "LOC\n",
      "Schotland\n",
      "LOC\n",
      "WK-kwalificatie\n",
      "MISC\n"
     ]
    }
   ],
   "source": [
    "print(len(sentence.get_spans('ner')))\n",
    "for entity in sentence.get_spans('ner'):\n",
    "    print(entity.text)\n",
    "    print(entity.get_label(\"ner\").value)"
   ]
  },
  {
   "cell_type": "code",
   "execution_count": 29,
   "metadata": {},
   "outputs": [
    {
     "name": "stdout",
     "output_type": "stream",
     "text": [
      "['Span[8:9]: \"Friese\"'/'MISC' (1.0), 'Span[9:10]: \"Haule\"'/'LOC' (1.0)]\n"
     ]
    }
   ],
   "source": [
    "print(sentence.get_labels(\"ner\"))"
   ]
  },
  {
   "cell_type": "code",
   "execution_count": null,
   "metadata": {},
   "outputs": [],
   "source": []
  }
 ],
 "metadata": {
  "kernelspec": {
   "display_name": "Python 3",
   "language": "python",
   "name": "python3"
  },
  "language_info": {
   "codemirror_mode": {
    "name": "ipython",
    "version": 3
   },
   "file_extension": ".py",
   "mimetype": "text/x-python",
   "name": "python",
   "nbconvert_exporter": "python",
   "pygments_lexer": "ipython3",
   "version": "3.6.9"
  }
 },
 "nbformat": 4,
 "nbformat_minor": 4
}
